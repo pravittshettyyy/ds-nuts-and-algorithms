{
  "nbformat": 4,
  "nbformat_minor": 0,
  "metadata": {
    "colab": {
      "provenance": []
    },
    "kernelspec": {
      "name": "python3",
      "display_name": "Python 3"
    },
    "language_info": {
      "name": "python"
    }
  },
  "cells": [
    {
      "cell_type": "markdown",
      "source": [
        "# **Problem 1**"
      ],
      "metadata": {
        "id": "VIJuOaR96GYM"
      }
    },
    {
      "cell_type": "code",
      "source": [
        "n = int(input(\"Please enter a number: \")) #user inputs size of pattern\n",
        "#loop to generate the pattern\n",
        "while (n > 0):\n",
        "  #prints a specific row\n",
        "  for i in range(0, n):\n",
        "    print(\"*\", end = \"\") # prints * i times according to row number\n",
        "  print()\n",
        "  n -= 1"
      ],
      "metadata": {
        "colab": {
          "base_uri": "https://localhost:8080/"
        },
        "id": "QBd8hynD6JAS",
        "outputId": "fa0da8e8-f3c1-4470-84b0-d0eb537af833"
      },
      "execution_count": null,
      "outputs": [
        {
          "output_type": "stream",
          "name": "stdout",
          "text": [
            "Please enter a number: 5\n",
            "*****\n",
            "****\n",
            "***\n",
            "**\n",
            "*\n"
          ]
        }
      ]
    },
    {
      "cell_type": "markdown",
      "source": [
        "# **Problem 2**\n"
      ],
      "metadata": {
        "id": "95KXzTCi63Oe"
      }
    },
    {
      "cell_type": "code",
      "source": [
        "n = int(input(\"Please enter a number: \")) #user input\n",
        "for i in range (1, 11):\n",
        "  print(n, \"*\", i, \" = \", n*i) #prints the multiplication table"
      ],
      "metadata": {
        "colab": {
          "base_uri": "https://localhost:8080/"
        },
        "id": "bo9ba2e064pQ",
        "outputId": "ccb6037f-fc04-45a7-aa2e-3a799d14c64c"
      },
      "execution_count": null,
      "outputs": [
        {
          "output_type": "stream",
          "name": "stdout",
          "text": [
            "Please enter a number: 5\n",
            "5 * 1  =  5\n",
            "5 * 2  =  10\n",
            "5 * 3  =  15\n",
            "5 * 4  =  20\n",
            "5 * 5  =  25\n",
            "5 * 6  =  30\n",
            "5 * 7  =  35\n",
            "5 * 8  =  40\n",
            "5 * 9  =  45\n",
            "5 * 10  =  50\n"
          ]
        }
      ]
    },
    {
      "cell_type": "markdown",
      "source": [
        "# **Problem 3**"
      ],
      "metadata": {
        "id": "ALjNHFj27TaU"
      }
    },
    {
      "cell_type": "code",
      "source": [
        "n = int(input(\"Please enter a number: \")) #user inputs a natural number\n",
        "sum = 0 #initializes the sum of squares\n",
        "for i in range(1, n+1):\n",
        "  sum += i**2 #computes the square and adds it to sum iteratively\n",
        "\n",
        "print(\"The sum of the first\", n, \"natural numbers is:\", sum)"
      ],
      "metadata": {
        "colab": {
          "base_uri": "https://localhost:8080/"
        },
        "id": "ow7XCtiY7Usp",
        "outputId": "80bc94a4-6146-4005-aa59-b3792924cd6e"
      },
      "execution_count": null,
      "outputs": [
        {
          "output_type": "stream",
          "name": "stdout",
          "text": [
            "Please enter a number: 10\n",
            "The sum of the first 10 natural numbers is: 385\n"
          ]
        }
      ]
    },
    {
      "cell_type": "markdown",
      "source": [
        "# **Problem 4**"
      ],
      "metadata": {
        "id": "S_PDZnfA7w3L"
      }
    },
    {
      "cell_type": "code",
      "source": [
        "#a function to streamline the code\n",
        "#lists are called array because i used to code in java...kindly excuse\n",
        "def list_ops(array):\n",
        "  sum = 0\n",
        "  #arranges the list (called array here) in ascending order to make life simpler\n",
        "  for i in range(0, len(array)):\n",
        "    for j in range(i, len(array)):\n",
        "      if (array[i] > array[j]):\n",
        "        c = array[i]\n",
        "        array[i] = array[j]\n",
        "        array[j] = c\n",
        "    sum += array[i]\n",
        "\n",
        "  #since the array is now ascending...\n",
        "  print(\"The maximum of the list is\", array[0]) #minumium is just the first element\n",
        "  print(\"The maximum of the list is\", array[len(array)-1]) #maximum is just the last element\n",
        "  print(\"Sum of list elements is\", sum) #sum was computed iteratively while the list was being re-ordered\n",
        "  print(\"Average of list elements is\", sum/len(array)) #divides sum by length to give average\n",
        "\n",
        "\n",
        "ar = [10, 34, 12, 45, 23, 90, 917] #random list...can be changed\n",
        "list_ops(ar)\n"
      ],
      "metadata": {
        "colab": {
          "base_uri": "https://localhost:8080/"
        },
        "id": "rReDRowH7yrK",
        "outputId": "07a9e0c6-f9c2-4cb7-f33f-0cbfbab02f82"
      },
      "execution_count": null,
      "outputs": [
        {
          "output_type": "stream",
          "name": "stdout",
          "text": [
            "The maximum of the list is 10\n",
            "The maximum of the list is 917\n",
            "Sum of list elements is 1131\n",
            "Average of list elements is 161.57142857142858\n"
          ]
        }
      ]
    },
    {
      "cell_type": "markdown",
      "source": [
        "# **Problem 5**"
      ],
      "metadata": {
        "id": "H6A_ro-m-DJi"
      }
    },
    {
      "cell_type": "code",
      "source": [
        "#recursion to check for primes (just for fun)\n",
        "def check_prime(n, i):\n",
        "  if i == 1:\n",
        "    print(n, \"is a prime number\") #last step, n/1...no factors were found\n",
        "    return\n",
        "  elif n % i == 0:\n",
        "    print(n, \"is not a prime number\") #if n gives no remainder when dividing by i, i is basically a factor and n cannot be prime\n",
        "    return\n",
        "  else:\n",
        "    return check_prime(n, i-1) #if i is not a factor try i-1 and so on...\n",
        "\n",
        "n = int(input(\"Please enter a number: \")) #user input\n",
        "check_prime(n, n//2) #n cannot have any factors above n//2, so the function can run fewer times"
      ],
      "metadata": {
        "colab": {
          "base_uri": "https://localhost:8080/"
        },
        "id": "9hDp6s4O-GIr",
        "outputId": "4e02c13d-bf4b-4911-e0f1-58490057c4d1"
      },
      "execution_count": null,
      "outputs": [
        {
          "output_type": "stream",
          "name": "stdout",
          "text": [
            "Please enter a number: 117\n",
            "117 is not a prime number\n"
          ]
        }
      ]
    },
    {
      "cell_type": "markdown",
      "source": [
        "# **Problem 7**"
      ],
      "metadata": {
        "id": "WBgwNusmBU9U"
      }
    },
    {
      "cell_type": "code",
      "source": [
        "#the recursive function that gives factorial...\n",
        "def factorial(n):\n",
        "  if(n == 0):\n",
        "    return 1 # end case..because 0! = 1! = 1\n",
        "  else:\n",
        "    return n*factorial(n-1) #simply return n * n - 1 *...till you reach 0\n",
        "\n",
        "\n",
        "n = int(input(\"Please enter a number: \")) #user input\n",
        "#non-recursive factorial finder :(\n",
        "fact = 1 #initially factorial starts of as 1...if n = 1, we are done\n",
        "i = n #just so we dont lose the original value of n in the loop\n",
        "while i >= 1:\n",
        "  fact *= i # factorial is simply n * n - 1 *...1\n",
        "  i -= 1\n",
        "print(\"The factorial of\", n, \"is\", fact)\n",
        "print(\"The factorial of\", n, \"is\", factorial(n), (\"but with recuurrrssiiioonnn\"))"
      ],
      "metadata": {
        "colab": {
          "base_uri": "https://localhost:8080/"
        },
        "id": "LPU0rNQjBWkO",
        "outputId": "062a9a27-949f-4625-ae60-908915387fae"
      },
      "execution_count": null,
      "outputs": [
        {
          "output_type": "stream",
          "name": "stdout",
          "text": [
            "Please enter a number: 7\n",
            "The factorial of 7 is 5040\n",
            "The factorial of 7 is 5040 but with recuurrrssiiioonnn\n"
          ]
        }
      ]
    },
    {
      "cell_type": "markdown",
      "source": [
        "# **Problem 8**"
      ],
      "metadata": {
        "id": "c6yqI3cVCUjW"
      }
    },
    {
      "cell_type": "code",
      "source": [
        "strr = input(\"Please enter a string: \") #user inputs a string\n",
        "reverse = \"\" #reverse string starts out empty\n",
        "for i in range(len(strr)-1, -1, -1):\n",
        "  reverse += strr[i] #iteratively adds each character from strr to reverse, but in the opposite order\n",
        "\n",
        "if reverse == strr: #checks if both are equal\n",
        "  print(strr, \"is a palindrome\")\n",
        "else:\n",
        "  print(strr, \"is not a palindrome\")"
      ],
      "metadata": {
        "colab": {
          "base_uri": "https://localhost:8080/"
        },
        "id": "cINBQ1s4CWe1",
        "outputId": "2daefc6a-3723-4a03-d16a-93f4dcd37b67"
      },
      "execution_count": null,
      "outputs": [
        {
          "output_type": "stream",
          "name": "stdout",
          "text": [
            "Please enter a string: helllo\n",
            "helllo is not a palindrome\n"
          ]
        }
      ]
    },
    {
      "cell_type": "markdown",
      "source": [
        "# **Problem 9**"
      ],
      "metadata": {
        "id": "ofET6WicDV7z"
      }
    },
    {
      "cell_type": "code",
      "source": [
        "n = int(input(\"Please enter a number: \")) #user input\n",
        "num = n #so that we dont lose the original value of n while iterating\n",
        "sum = 0\n",
        "while num > 0:\n",
        "  sum += num % 10 #adds the last digit of num to sum\n",
        "  num = int(num/10) #gets rid of the last digit\n",
        "  #...and continue\n",
        "\n",
        "print(\"The sum of digits of\", n, \"is\", sum)"
      ],
      "metadata": {
        "colab": {
          "base_uri": "https://localhost:8080/"
        },
        "id": "LD7sMQhlDXGY",
        "outputId": "e2ea04ee-b3ec-463a-e63d-197e029881f3"
      },
      "execution_count": 59,
      "outputs": [
        {
          "output_type": "stream",
          "name": "stdout",
          "text": [
            "Please enter a number: 235\n",
            "The sum of digits of 235 is 10\n"
          ]
        }
      ]
    },
    {
      "cell_type": "markdown",
      "source": [
        "# **Problem 10**"
      ],
      "metadata": {
        "id": "PBJ1lTXGEsm7"
      }
    },
    {
      "cell_type": "code",
      "source": [
        "import random #module to generate our (semi-random) numbers\n",
        "n = random.randint(1, 100) #picks a no in random from 1 to 100\n",
        "n_guess = int(input(\"Guess the number: \")) #initial user guess\n",
        "while n_guess != n: #loop goes long for as long as it takes for user to reach the right answer\n",
        "  if n_guess > n:\n",
        "    print(\"Too high\") #hint if guess is too high\n",
        "  elif n_guess < n:\n",
        "    print(\"Too low\") #hint if guess is too low\n",
        "  n_guess = int(input(\"Guess again: \")) #takes the next guess and updates n accordingly\n",
        "print(\"good job amigo\") #words of encouragement :)\n"
      ],
      "metadata": {
        "colab": {
          "base_uri": "https://localhost:8080/"
        },
        "id": "Oj1YxljVEuaw",
        "outputId": "79c6295c-b56b-4cb1-a32c-e6e49ce6f405"
      },
      "execution_count": null,
      "outputs": [
        {
          "output_type": "stream",
          "name": "stdout",
          "text": [
            "Guess the number: 5\n",
            "Too low\n",
            "Guess again: 6\n",
            "Too low\n",
            "Guess again: 7\n",
            "Too low\n",
            "Guess again: 9\n",
            "Too high\n",
            "Guess again: 8\n",
            "good job amigo\n"
          ]
        }
      ]
    },
    {
      "cell_type": "markdown",
      "source": [
        "# **Problem 11**"
      ],
      "metadata": {
        "id": "jAJQIoLI8qjB"
      }
    },
    {
      "cell_type": "code",
      "source": [
        "!pip install ColabTurtlePlus #the only way I could find to run turtle on Colab\n",
        "from ColabTurtlePlus.Turtle import * #imports turtle"
      ],
      "metadata": {
        "colab": {
          "base_uri": "https://localhost:8080/"
        },
        "id": "ylc2nmItGBpP",
        "outputId": "5a7fa3b4-e18b-4e44-839d-cf26066f20ed"
      },
      "execution_count": 42,
      "outputs": [
        {
          "output_type": "stream",
          "name": "stdout",
          "text": [
            "Collecting ColabTurtlePlus\n",
            "  Downloading ColabTurtlePlus-2.0.1-py3-none-any.whl.metadata (10 kB)\n",
            "Downloading ColabTurtlePlus-2.0.1-py3-none-any.whl (31 kB)\n",
            "Installing collected packages: ColabTurtlePlus\n",
            "Successfully installed ColabTurtlePlus-2.0.1\n",
            "Put clearscreen() as the first line in a cell (after the import command) to re-run turtle commands in the cell\n"
          ]
        }
      ]
    },
    {
      "cell_type": "code",
      "source": [
        "#Graphic (a): Regular Polygons\n",
        "\n",
        "#function to make life easier\n",
        "def turtle_a(n):\n",
        "  clear() #clears the screen\n",
        "  initializeTurtle() #re-starts turtle to start afresh\n",
        "\n",
        "  #for any regular polygon, the internal angle between sides is...\n",
        "  theta = 360/n\n",
        "  for i in range(0, n):\n",
        "    forward(100) #random length side...can be changed\n",
        "    left(theta) #bends by the internal angle defined\n",
        "  #whole loop completes the polygon by turning by theta n times\n",
        "\n",
        "n = int(input(\"Please enter no. of sides: \")) #user input for how many sides the polygon needs\n",
        "turtle_a(n) #and here we go..."
      ],
      "metadata": {
        "colab": {
          "base_uri": "https://localhost:8080/",
          "height": 640
        },
        "id": "xAf0V9sC9cHS",
        "outputId": "c7da74ca-5815-41d7-f8fa-152708acfa89"
      },
      "execution_count": 44,
      "outputs": [
        {
          "name": "stdout",
          "output_type": "stream",
          "text": [
            "Please enter no. of sides: 6\n"
          ]
        },
        {
          "output_type": "display_data",
          "data": {
            "text/plain": [
              "<IPython.core.display.HTML object>"
            ],
            "text/html": [
              "\n",
              "      <svg width=\"800\" height=\"600\">  \n",
              "        <rect width=\"100%\" height=\"100%\" style=\"fill:white;stroke:;stroke-width:1\"/>\n",
              "        \n",
              "        \n",
              "        <line x1=\"400.0\" y1=\"300.0\" x2=\"500.0\" y2=\"300.0\" stroke-linecap=\"round\" style=\"stroke:black;stroke-width:1\" /><line x1=\"500.0\" y1=\"300.0\" x2=\"550.0\" y2=\"213.397\" stroke-linecap=\"round\" style=\"stroke:black;stroke-width:1\" /><line x1=\"550.0\" y1=\"213.397\" x2=\"500.0\" y2=\"126.794\" stroke-linecap=\"round\" style=\"stroke:black;stroke-width:1\" /><line x1=\"500.0\" y1=\"126.794\" x2=\"400.0\" y2=\"126.794\" stroke-linecap=\"round\" style=\"stroke:black;stroke-width:1\" /><line x1=\"400.0\" y1=\"126.794\" x2=\"350.0\" y2=\"213.397\" stroke-linecap=\"round\" style=\"stroke:black;stroke-width:1\" /><line x1=\"350.0\" y1=\"213.397\" x2=\"400.0\" y2=\"300.0\" stroke-linecap=\"round\" style=\"stroke:black;stroke-width:1\" />\n",
              "        \n",
              "        \n",
              "        <g id=\"classic\" visibility=\"visible\" transform=\"rotate(-30.0,400.0,300.0) translate(400.0, 300.0)\">\n",
              "<polygon points=\"-5,-4.5 0,-2.5 5,-4.5 0,4.5\" transform=\"skewX(0) scale(1,1)\" style=\"stroke:black;fill:black;stroke-width:1\" />\n",
              "<animateTransform id = \"one\" attributeName=\"transform\" \n",
              "                      type=\"scale\"\n",
              "                      from=\"1 1\" to=\"1 1\"\n",
              "                      begin=\"0s\" dur=\"0.01s\"\n",
              "                      repeatCount=\"1\"\n",
              "                      additive=\"sum\"\n",
              "                      fill=\"freeze\"\n",
              "                /><animateTransform attributeName=\"transform\"\n",
              "                    type=\"rotate\"\n",
              "                    from=\"0 0 0\" to =\"-60.0 0 0\"\n",
              "                    begin=\"one.end\" dur=\"0.16666666666666666s\"\n",
              "                    repeatCount=\"1\"\n",
              "                    additive=\"sum\"\n",
              "                    fill=\"freeze\"\n",
              "                /></g>\n",
              "      </svg>\n",
              "    "
            ]
          },
          "metadata": {}
        }
      ]
    },
    {
      "cell_type": "code",
      "source": [
        "#Graphic (b): Five Pronged Star (with outline)\n",
        "\n",
        "def turtle_b(n):\n",
        "  clear() #clears the screen\n",
        "  initializeTurtle() #restarts turtle afresh\n",
        "  angle = 180 - (180 / n) #the angle for the star is defined by the no of sides\n",
        "\n",
        "  for i in range(n):\n",
        "    forward(200) #dimensions are chosen at random can be changed\n",
        "    right(angle) #not angles...angles stay fixed and specific\n",
        "\n",
        "turtle_b(5) #as asked in the question"
      ],
      "metadata": {
        "colab": {
          "base_uri": "https://localhost:8080/",
          "height": 623
        },
        "id": "UjQjBJZxW8V4",
        "outputId": "6ba23833-24b3-4323-b40e-e9fd9c6228f7"
      },
      "execution_count": 58,
      "outputs": [
        {
          "output_type": "display_data",
          "data": {
            "text/plain": [
              "<IPython.core.display.HTML object>"
            ],
            "text/html": [
              "\n",
              "      <svg width=\"800\" height=\"600\">  \n",
              "        <rect width=\"100%\" height=\"100%\" style=\"fill:white;stroke:;stroke-width:1\"/>\n",
              "        \n",
              "        \n",
              "        <line x1=\"400.0\" y1=\"300.0\" x2=\"600.0\" y2=\"300.0\" stroke-linecap=\"round\" style=\"stroke:black;stroke-width:1\" /><line x1=\"600.0\" y1=\"300.0\" x2=\"438.197\" y2=\"417.557\" stroke-linecap=\"round\" style=\"stroke:black;stroke-width:1\" /><line x1=\"438.197\" y1=\"417.557\" x2=\"500.0\" y2=\"227.346\" stroke-linecap=\"round\" style=\"stroke:black;stroke-width:1\" /><line x1=\"500.0\" y1=\"227.346\" x2=\"561.803\" y2=\"417.557\" stroke-linecap=\"round\" style=\"stroke:black;stroke-width:1\" /><line x1=\"561.803\" y1=\"417.557\" x2=\"400.0\" y2=\"300.0\" stroke-linecap=\"round\" style=\"stroke:black;stroke-width:1\" />\n",
              "        \n",
              "        \n",
              "        <g id=\"classic\" visibility=\"visible\" transform=\"rotate(126.0,400.0,300.0) translate(400.0, 300.0)\">\n",
              "<polygon points=\"-5,-4.5 0,-2.5 5,-4.5 0,4.5\" transform=\"skewX(0) scale(1,1)\" style=\"stroke:black;fill:black;stroke-width:1\" />\n",
              "<animateTransform id = \"one\" attributeName=\"transform\" \n",
              "                      type=\"scale\"\n",
              "                      from=\"1 1\" to=\"1 1\"\n",
              "                      begin=\"0s\" dur=\"0.01s\"\n",
              "                      repeatCount=\"1\"\n",
              "                      additive=\"sum\"\n",
              "                      fill=\"freeze\"\n",
              "                /><animateTransform attributeName=\"transform\"\n",
              "                    type=\"rotate\"\n",
              "                    from=\"0 0 0\" to =\"144.0 0 0\"\n",
              "                    begin=\"one.end\" dur=\"0.4s\"\n",
              "                    repeatCount=\"1\"\n",
              "                    additive=\"sum\"\n",
              "                    fill=\"freeze\"\n",
              "                /></g>\n",
              "      </svg>\n",
              "    "
            ]
          },
          "metadata": {}
        }
      ]
    },
    {
      "cell_type": "code",
      "source": [
        "#Graphic (c): 6-pronged star\n",
        "\n",
        "def turtle_c(n):\n",
        "  clear() #clears the screen\n",
        "  initializeTurtle() #restarts turtle anew\n",
        "\n",
        "  for n in range (0, n):\n",
        "    #dimensions were (again) chosen in random...can be chaged\n",
        "    left(30)  #...angles cannot though\n",
        "    forward(50)\n",
        "    right(60)\n",
        "    forward(50)\n",
        "    left(90) #sets up the next \"side\" of the star\n",
        "\n",
        "turtle_c(6) #and here we go..."
      ],
      "metadata": {
        "colab": {
          "base_uri": "https://localhost:8080/",
          "height": 623
        },
        "id": "cD_ZIJnBC2F7",
        "outputId": "ac417894-724c-4e08-c470-0b35d0a3f382"
      },
      "execution_count": 52,
      "outputs": [
        {
          "output_type": "display_data",
          "data": {
            "text/plain": [
              "<IPython.core.display.HTML object>"
            ],
            "text/html": [
              "\n",
              "      <svg width=\"800\" height=\"600\">  \n",
              "        <rect width=\"100%\" height=\"100%\" style=\"fill:white;stroke:;stroke-width:1\"/>\n",
              "        \n",
              "        \n",
              "        <line x1=\"400.0\" y1=\"300.0\" x2=\"443.301\" y2=\"275.0\" stroke-linecap=\"round\" style=\"stroke:black;stroke-width:1\" /><line x1=\"443.301\" y1=\"275.0\" x2=\"486.602\" y2=\"300.0\" stroke-linecap=\"round\" style=\"stroke:black;stroke-width:1\" /><line x1=\"486.602\" y1=\"300.0\" x2=\"486.602\" y2=\"250.0\" stroke-linecap=\"round\" style=\"stroke:black;stroke-width:1\" /><line x1=\"486.602\" y1=\"250.0\" x2=\"529.903\" y2=\"225.0\" stroke-linecap=\"round\" style=\"stroke:black;stroke-width:1\" /><line x1=\"529.903\" y1=\"225.0\" x2=\"486.602\" y2=\"200.0\" stroke-linecap=\"round\" style=\"stroke:black;stroke-width:1\" /><line x1=\"486.602\" y1=\"200.0\" x2=\"486.602\" y2=\"150.0\" stroke-linecap=\"round\" style=\"stroke:black;stroke-width:1\" /><line x1=\"486.602\" y1=\"150.0\" x2=\"443.301\" y2=\"175.0\" stroke-linecap=\"round\" style=\"stroke:black;stroke-width:1\" /><line x1=\"443.301\" y1=\"175.0\" x2=\"400.0\" y2=\"150.0\" stroke-linecap=\"round\" style=\"stroke:black;stroke-width:1\" /><line x1=\"400.0\" y1=\"150.0\" x2=\"400.0\" y2=\"200.0\" stroke-linecap=\"round\" style=\"stroke:black;stroke-width:1\" /><line x1=\"400.0\" y1=\"200.0\" x2=\"356.699\" y2=\"225.0\" stroke-linecap=\"round\" style=\"stroke:black;stroke-width:1\" /><line x1=\"356.699\" y1=\"225.0\" x2=\"400.0\" y2=\"250.0\" stroke-linecap=\"round\" style=\"stroke:black;stroke-width:1\" /><line x1=\"400.0\" y1=\"250.0\" x2=\"400.0\" y2=\"300.0\" stroke-linecap=\"round\" style=\"stroke:black;stroke-width:1\" />\n",
              "        \n",
              "        \n",
              "        <g id=\"classic\" visibility=\"visible\" transform=\"rotate(0,400.0,300.0) translate(400.0, 300.0)\">\n",
              "<polygon points=\"-5,-4.5 0,-2.5 5,-4.5 0,4.5\" transform=\"skewX(0) scale(1,1)\" style=\"stroke:black;fill:black;stroke-width:1\" />\n",
              "<animateTransform id = \"one\" attributeName=\"transform\" \n",
              "                      type=\"scale\"\n",
              "                      from=\"1 1\" to=\"1 1\"\n",
              "                      begin=\"0s\" dur=\"0.01s\"\n",
              "                      repeatCount=\"1\"\n",
              "                      additive=\"sum\"\n",
              "                      fill=\"freeze\"\n",
              "                /><animateTransform attributeName=\"transform\"\n",
              "                    type=\"rotate\"\n",
              "                    from=\"0 0 0\" to =\"-90 0 0\"\n",
              "                    begin=\"one.end\" dur=\"0.25s\"\n",
              "                    repeatCount=\"1\"\n",
              "                    additive=\"sum\"\n",
              "                    fill=\"freeze\"\n",
              "                /></g>\n",
              "      </svg>\n",
              "    "
            ]
          },
          "metadata": {}
        }
      ]
    },
    {
      "cell_type": "code",
      "source": [
        "#Graphic (d): Saw-Staircase\n",
        "\n",
        "def turtle_d(n):\n",
        "  clear() #clears the screen\n",
        "  initializeTurtle() #starts turtle anew\n",
        "  left(90) #to make turtle move upward\n",
        "  for i in range (0, n):\n",
        "    #dimensions of the saw/starircase were chosen by trial and random to roughly match the scale of the question\n",
        "    #dimensions can be changed\n",
        "    forward(100)\n",
        "    right(120)\n",
        "    forward(70)\n",
        "    right(60)\n",
        "    forward(40)\n",
        "    left(180)\n",
        "\n",
        "turtle_b(5) #and here we go..."
      ],
      "metadata": {
        "id": "IpEcnA7a96V3",
        "colab": {
          "base_uri": "https://localhost:8080/",
          "height": 623
        },
        "outputId": "ee06a2b6-e510-4d6e-a129-ead01430b526"
      },
      "execution_count": 50,
      "outputs": [
        {
          "output_type": "display_data",
          "data": {
            "text/plain": [
              "<IPython.core.display.HTML object>"
            ],
            "text/html": [
              "\n",
              "      <svg width=\"800\" height=\"600\">  \n",
              "        <rect width=\"100%\" height=\"100%\" style=\"fill:white;stroke:;stroke-width:1\"/>\n",
              "        \n",
              "        \n",
              "        <line x1=\"400.0\" y1=\"300.0\" x2=\"400.0\" y2=\"200.0\" stroke-linecap=\"round\" style=\"stroke:black;stroke-width:1\" /><line x1=\"400.0\" y1=\"200.0\" x2=\"460.622\" y2=\"235.0\" stroke-linecap=\"round\" style=\"stroke:black;stroke-width:1\" /><line x1=\"460.622\" y1=\"235.0\" x2=\"460.622\" y2=\"275.0\" stroke-linecap=\"round\" style=\"stroke:black;stroke-width:1\" /><line x1=\"460.622\" y1=\"275.0\" x2=\"460.622\" y2=\"175.0\" stroke-linecap=\"round\" style=\"stroke:black;stroke-width:1\" /><line x1=\"460.622\" y1=\"175.0\" x2=\"521.244\" y2=\"210.0\" stroke-linecap=\"round\" style=\"stroke:black;stroke-width:1\" /><line x1=\"521.244\" y1=\"210.0\" x2=\"521.244\" y2=\"250.0\" stroke-linecap=\"round\" style=\"stroke:black;stroke-width:1\" /><line x1=\"521.244\" y1=\"250.0\" x2=\"521.244\" y2=\"150.0\" stroke-linecap=\"round\" style=\"stroke:black;stroke-width:1\" /><line x1=\"521.244\" y1=\"150.0\" x2=\"581.866\" y2=\"185.0\" stroke-linecap=\"round\" style=\"stroke:black;stroke-width:1\" /><line x1=\"581.866\" y1=\"185.0\" x2=\"581.866\" y2=\"225.0\" stroke-linecap=\"round\" style=\"stroke:black;stroke-width:1\" /><line x1=\"581.866\" y1=\"225.0\" x2=\"581.866\" y2=\"125.0\" stroke-linecap=\"round\" style=\"stroke:black;stroke-width:1\" /><line x1=\"581.866\" y1=\"125.0\" x2=\"642.488\" y2=\"160.0\" stroke-linecap=\"round\" style=\"stroke:black;stroke-width:1\" /><line x1=\"642.488\" y1=\"160.0\" x2=\"642.488\" y2=\"200.0\" stroke-linecap=\"round\" style=\"stroke:black;stroke-width:1\" /><line x1=\"642.488\" y1=\"200.0\" x2=\"642.488\" y2=\"100.0\" stroke-linecap=\"round\" style=\"stroke:black;stroke-width:1\" /><line x1=\"642.488\" y1=\"100.0\" x2=\"703.11\" y2=\"135.0\" stroke-linecap=\"round\" style=\"stroke:black;stroke-width:1\" /><line x1=\"703.11\" y1=\"135.0\" x2=\"703.11\" y2=\"175.0\" stroke-linecap=\"round\" style=\"stroke:black;stroke-width:1\" />\n",
              "        \n",
              "        \n",
              "        <g id=\"classic\" visibility=\"visible\" transform=\"rotate(0,703.11,175.0) translate(703.11, 175.0)\">\n",
              "<polygon points=\"-5,-4.5 0,-2.5 5,-4.5 0,4.5\" transform=\"skewX(0) scale(1,1)\" style=\"stroke:black;fill:black;stroke-width:1\" />\n",
              "<animateTransform id = \"one\" attributeName=\"transform\" \n",
              "                      type=\"scale\"\n",
              "                      from=\"1 1\" to=\"1 1\"\n",
              "                      begin=\"0s\" dur=\"0.01s\"\n",
              "                      repeatCount=\"1\"\n",
              "                      additive=\"sum\"\n",
              "                      fill=\"freeze\"\n",
              "                /><animateTransform attributeName=\"transform\"\n",
              "                    type=\"rotate\"\n",
              "                    from=\"0 0 0\" to =\"-180 0 0\"\n",
              "                    begin=\"one.end\" dur=\"0.5s\"\n",
              "                    repeatCount=\"1\"\n",
              "                    additive=\"sum\"\n",
              "                    fill=\"freeze\"\n",
              "                /></g>\n",
              "      </svg>\n",
              "    "
            ]
          },
          "metadata": {}
        }
      ]
    },
    {
      "cell_type": "markdown",
      "source": [
        "# **Problem 12**"
      ],
      "metadata": {
        "id": "Dc_f5N9rXdT9"
      }
    },
    {
      "cell_type": "code",
      "source": [
        "#recursive fucntion to find the size of LCS\n",
        "def lcss(str1, str2):\n",
        "  if len(str1) == 0 or len(str2) == 0: #base case: if both strings are empty there is no LCS\n",
        "    return 0\n",
        "  elif str1[-1] == str2[-1]: #if the last characters are equal...\n",
        "    return 1 + lcss(str1[0:-1], str2[0:-1])\n",
        "    #one character is equal and then we find the LCS of both - excluding the last character from both\n",
        "  else:\n",
        "    return max(lcss(str1[:-1], str2), lcss(str1, str2[:-1]))\n",
        "    #keep running but we keep exclduing characters from str1 and narrowing down str1\n",
        "    #we do the same for str2\n",
        "    #the maximum of results obtained from both is simply the size of the LCS\n",
        "    #note that we dont add the result of both operations...can lead to double counting (or multiple conting in general)\n",
        "\n",
        "#user inputs two strings\n",
        "str_a = input(\"Please enter a string: \")\n",
        "str_b = input(\"Please enter another string: \")\n",
        "print(lcss(str_a, str_b))"
      ],
      "metadata": {
        "id": "82Oh6l7HXepP",
        "colab": {
          "base_uri": "https://localhost:8080/"
        },
        "outputId": "91b49bbc-8374-40a1-e42f-0a2f30a24b1b"
      },
      "execution_count": 29,
      "outputs": [
        {
          "output_type": "stream",
          "name": "stdout",
          "text": [
            "3\n"
          ]
        }
      ]
    },
    {
      "cell_type": "markdown",
      "source": [
        "# **Problem 13**"
      ],
      "metadata": {
        "id": "jDn0cDaZuosb"
      }
    },
    {
      "cell_type": "code",
      "source": [
        "#recursive function to compute the power set\n",
        "def powersets(array, sub): #sub is the list of subsets\n",
        "  if(len(array) == 0): #base case when list is an empty set\n",
        "    return sub #sub in this case is the list equivalent of the power set\n",
        "  else:\n",
        "    sub = sub + [sub_stuff + [array[0]] for sub_stuff in sub] #adds in the first elemenent as a singleton\n",
        "    #& shuffles existing elements in sub with this first element\n",
        "    return powersets(array[1:], sub) #repeat excluding the first element this time\n",
        "\n",
        "#elements can be changed/added/removed the process remains unchanged\n",
        "power = powersets([1, 2, 3], [[]]) #power set starts off as a null set\n",
        "print(power)"
      ],
      "metadata": {
        "colab": {
          "base_uri": "https://localhost:8080/"
        },
        "id": "H6ws2mG9urMX",
        "outputId": "7b1da699-d581-4f35-ef88-cc1b4f6fc656"
      },
      "execution_count": 21,
      "outputs": [
        {
          "output_type": "stream",
          "name": "stdout",
          "text": [
            "[[], [1], [2], [1, 2], [3], [1, 3], [2, 3], [1, 2, 3]]\n"
          ]
        }
      ]
    },
    {
      "cell_type": "markdown",
      "source": [
        "# **Problem 14**"
      ],
      "metadata": {
        "id": "sXI-gak8cjep"
      }
    },
    {
      "cell_type": "code",
      "source": [
        "#recursive fucntion to find all valid combinations of valid parenthesis\n",
        "def paranthesis(left, right, curr, listpar): #listpar contains all possible combinations, kind of like a power set\n",
        "  if left == 0 and right == 0:\n",
        "    # left denotes the no of available ('s and right denotes the no of available of )'s...curr is a particular pattern\n",
        "    #when left and right are both 0, every ( has an ) and this counts as a valid parenthesis combination...\n",
        "    listpar.append(curr) #...so we add it to our power set\n",
        "    return\n",
        "  if left > 0: #if left paranthesis are left to be used up\n",
        "    paranthesis(left-1, right, curr + '(', listpar)\n",
        "    #reduce no of available ('s and add them to curr (the pattern)\n",
        "  if right > left: #if there are more )'s available than ('s\n",
        "    paranthesis(left, right-1, curr + ')', listpar)\n",
        "    #add a ) to our pattern and reduce the no of available )'s\n",
        "\n",
        "pow = [] #power set starts out empty\n",
        "n = int(input(\"Please enter the no of parenthesis pairs: \")) #user input\n",
        "paranthesis(n, n, \"\", pow)\n",
        "#and here we go...\n",
        "print(\"The possible combinations of valid parenthesis are:\", pow)\n",
        "print(\"The no of possible cominations is\", len(pow))"
      ],
      "metadata": {
        "colab": {
          "base_uri": "https://localhost:8080/"
        },
        "id": "YjVz4IQTcliy",
        "outputId": "56aac904-2c16-4b0e-ceab-deff29665b4f"
      },
      "execution_count": 60,
      "outputs": [
        {
          "output_type": "stream",
          "name": "stdout",
          "text": [
            "Please enter the no of parenthesis pairs: 5\n",
            "The possible combinations of valid parenthesis are: ['((((()))))', '(((()())))', '(((())()))', '(((()))())', '(((())))()', '((()(())))', '((()()()))', '((()())())', '((()()))()', '((())(()))', '((())()())', '((())())()', '((()))(())', '((()))()()', '(()((())))', '(()(()()))', '(()(())())', '(()(()))()', '(()()(()))', '(()()()())', '(()()())()', '(()())(())', '(()())()()', '(())((()))', '(())(()())', '(())(())()', '(())()(())', '(())()()()', '()(((())))', '()((()()))', '()((())())', '()((()))()', '()(()(()))', '()(()()())', '()(()())()', '()(())(())', '()(())()()', '()()((()))', '()()(()())', '()()(())()', '()()()(())', '()()()()()']\n",
            "The no of possible cominations is 42\n"
          ]
        }
      ]
    },
    {
      "cell_type": "code",
      "source": [
        "#by Pravit Shetty\n",
        "#14th Augus, 2024\n",
        "#created as an assignment for CSE210\n",
        "#fin"
      ],
      "metadata": {
        "id": "SlJbkh7f4SJo"
      },
      "execution_count": null,
      "outputs": []
    }
  ]
}